{
 "cells": [
  {
   "cell_type": "code",
   "execution_count": 13,
   "id": "a5e30947",
   "metadata": {},
   "outputs": [
    {
     "name": "stdout",
     "output_type": "stream",
     "text": [
      "abdobucketcicd\n",
      "classgptbucket\n"
     ]
    }
   ],
   "source": [
    "# boto3 s3 operations\n",
    "#List\n",
    "#%pip install boto3\n",
    "\n",
    "import os\n",
    "os.environ['AWS_ACCESS_KEY_ID'] = os.getenv('AWS_ACCESS_KEY_ID')\n",
    "os.environ['AWS_SECRET_ACCESS_KEY'] = os.getenv('AWS_SECRET_ACCESS_KEY')\n",
    "\n",
    "import boto3\n",
    "\n",
    "def list_buckets():\n",
    "    s3 = boto3.resource('s3')\n",
    "    for bucket in s3.buckets.all():\n",
    "        print(bucket.name)\n",
    "\n",
    "# Call the function to list buckets\n",
    "list_buckets()\n"
   ]
  },
  {
   "cell_type": "code",
   "execution_count": 4,
   "id": "bf04ec1a",
   "metadata": {},
   "outputs": [],
   "source": [
    "from dotenv import load_dotenv\n",
    "\n",
    "# load OPENAI API KEY\n",
    "load_dotenv()\n",
    "import os\n",
    "res = os.getenv('AWS_ACCESS_KEY_ID')"
   ]
  },
  {
   "cell_type": "code",
   "execution_count": 5,
   "id": "f38f4546",
   "metadata": {},
   "outputs": [],
   "source": [
    "res"
   ]
  },
  {
   "cell_type": "code",
   "execution_count": 18,
   "id": "45691573",
   "metadata": {},
   "outputs": [
    {
     "data": {
      "text/plain": [
       "{'PDF1', 'pdf2'}"
      ]
     },
     "execution_count": 18,
     "metadata": {},
     "output_type": "execute_result"
    }
   ],
   "source": [
    "def list_folders():\n",
    "    s3 = boto3.resource('s3')\n",
    "    bucket = s3.Bucket(\"classgptbucket\")\n",
    "    folders = set()\n",
    "    for obj in bucket.objects.all():\n",
    "        # split the key by / and take the first element\n",
    "        folders.add(obj.key.split(\"/\")[0])\n",
    "        \n",
    "    return folders\n",
    "list_folders()"
   ]
  },
  {
   "cell_type": "code",
   "execution_count": 20,
   "id": "31ad7f2b",
   "metadata": {},
   "outputs": [
    {
     "name": "stdout",
     "output_type": "stream",
     "text": [
      "defaultdict(<class 'list'>,\n",
      "            {'PDF1': ['', 'Internships_2023_1688485790.pdf', 'MY_RES.pdf'],\n",
      "             'pdf2': ['',\n",
      "                      'Abdelrahman Youssef Mohamed Ahmed.pdf',\n",
      "                      'Credit_Card_Number_Fraud_Detection_Using.pdf',\n",
      "                      'عبدالله يوسف.pdf']})\n"
     ]
    }
   ],
   "source": [
    "# List files\n",
    "\n",
    "from collections import defaultdict\n",
    "from pprint import pprint\n",
    "\n",
    "def list_files():\n",
    "    s3 = boto3.resource('s3')\n",
    "    bucket = s3.Bucket(\"classgptbucket\")\n",
    "    \n",
    "    classes = defaultdict(list)\n",
    "    \n",
    "    for obj in bucket.objects.filter():\n",
    "        cname , fname = obj.key.split(\"/\")\n",
    "        if not fname.endswith(\".json\"):\n",
    "            classes[cname].append(fname)\n",
    "    return classes\n",
    "pprint(list_files())"
   ]
  },
  {
   "cell_type": "code",
   "execution_count": 21,
   "id": "0271918d",
   "metadata": {},
   "outputs": [
    {
     "data": {
      "text/plain": [
       "True"
      ]
     },
     "execution_count": 21,
     "metadata": {},
     "output_type": "execute_result"
    }
   ],
   "source": [
    "# Check if folder exist\n",
    "\n",
    "def folder_exists(folder_name):\n",
    "    s3 = boto3.resource(\"s3\")\n",
    "    bucket = s3.Bucket('classgptbucket')\n",
    "    \n",
    "    for _ in bucket.objects.filter(Prefix=f\"{folder_name}/\"):\n",
    "        return True\n",
    "    return False\n",
    "folder_exists('pdf2')"
   ]
  },
  {
   "cell_type": "code",
   "execution_count": 29,
   "id": "7da0485f",
   "metadata": {},
   "outputs": [],
   "source": [
    "def folder_exists_bucket(bucket,folder_name):\n",
    "    s3 = boto3.resource(\"s3\")\n",
    "    #bucket = s3.Bucket(bucket)\n",
    "    \n",
    "    for _ in bucket.objects.filter(Prefix=f\"{folder_name}/\"):\n",
    "        return True\n",
    "    return False"
   ]
  },
  {
   "cell_type": "code",
   "execution_count": 22,
   "id": "fadbfd7a",
   "metadata": {},
   "outputs": [
    {
     "data": {
      "text/plain": [
       "False"
      ]
     },
     "execution_count": 22,
     "metadata": {},
     "output_type": "execute_result"
    }
   ],
   "source": [
    "folder_exists(\"tt\")"
   ]
  },
  {
   "cell_type": "code",
   "execution_count": 23,
   "id": "80d015f9",
   "metadata": {},
   "outputs": [
    {
     "data": {
      "text/plain": [
       "True"
      ]
     },
     "execution_count": 23,
     "metadata": {},
     "output_type": "execute_result"
    }
   ],
   "source": [
    "# check files if exists\n",
    "\n",
    "import botocore\n",
    "\n",
    "def file_exists(folder_name , file_name):\n",
    "    s3 = boto3.resource('s3')\n",
    "    \n",
    "    try:\n",
    "        s3.Object(\"classgptbucket\" , f\"{folder_name}/{file_name}\").load()\n",
    "        return True\n",
    "    except botocore.exceptions.ClientError as e:\n",
    "        if e.response['Error']['Code'] == \"404\":\n",
    "            return False\n",
    "        else:\n",
    "            raise\n",
    "\n",
    "folder_name = \"pdf2\"\n",
    "file_name = \"Abdelrahman Youssef Mohamed Ahmed.pdf\"\n",
    "file_exists(folder_name , file_name)"
   ]
  },
  {
   "cell_type": "code",
   "execution_count": 24,
   "id": "c947beea",
   "metadata": {},
   "outputs": [
    {
     "data": {
      "text/plain": [
       "False"
      ]
     },
     "execution_count": 24,
     "metadata": {},
     "output_type": "execute_result"
    }
   ],
   "source": [
    "folder_name = \"pdf\"\n",
    "file_name = \"Abdelrahman Youssef Mohamed Ahmed.pdf\"\n",
    "file_exists(folder_name , file_name)"
   ]
  },
  {
   "cell_type": "code",
   "execution_count": 30,
   "id": "da76521f",
   "metadata": {},
   "outputs": [
    {
     "data": {
      "text/plain": [
       "{'PDF1', 'pdf2', 'test'}"
      ]
     },
     "execution_count": 30,
     "metadata": {},
     "output_type": "execute_result"
    }
   ],
   "source": [
    "# Create folder\n",
    "\n",
    "def create_folder(bucket,folder_name):\n",
    "    s3 = boto3.resource('s3')\n",
    "    bucket = s3.Bucket('classgptbucket')\n",
    "    \n",
    "    if not folder_exists_bucket(bucket,folder_name):\n",
    "        bucket.put_object(Key=f\"{folder_name}/\")\n",
    "\n",
    "create_folder('classgptbucket',\"test\")\n",
    "list_folders()"
   ]
  },
  {
   "cell_type": "code",
   "execution_count": 31,
   "id": "e75f9523",
   "metadata": {},
   "outputs": [
    {
     "data": {
      "text/plain": [
       "defaultdict(list,\n",
       "            {'PDF1': ['', 'Internships_2023_1688485790.pdf', 'MY_RES.pdf'],\n",
       "             'pdf2': ['',\n",
       "              'Abdelrahman Youssef Mohamed Ahmed.pdf',\n",
       "              'Credit_Card_Number_Fraud_Detection_Using.pdf',\n",
       "              'عبدالله يوسف.pdf'],\n",
       "             'test': ['', 'abdo.pdf']})"
      ]
     },
     "execution_count": 31,
     "metadata": {},
     "output_type": "execute_result"
    }
   ],
   "source": [
    "# adding files\n",
    "def upload_files(file_obj , file_path):\n",
    "    s3 = boto3.resource('s3')\n",
    "    bucket = s3.Bucket('classgptbucket')\n",
    "    \n",
    "    bucket.upload_fileobj(file_obj , file_path)\n",
    "\n",
    "with open('/Users/pepo_abdo/Downloads/MY_RES.pdf' , \"rb\") as f:\n",
    "    upload_files(f , 'test/abdo.pdf')\n",
    "\n",
    "list_files()"
   ]
  },
  {
   "cell_type": "code",
   "execution_count": 32,
   "id": "235a7c38",
   "metadata": {},
   "outputs": [
    {
     "data": {
      "text/plain": [
       "{'PDF1', 'pdf2'}"
      ]
     },
     "execution_count": 32,
     "metadata": {},
     "output_type": "execute_result"
    }
   ],
   "source": [
    "# remove folder\n",
    "\n",
    "def remove_folder(folder_name):\n",
    "    \n",
    "    s3 = boto3.resource(\"s3\")\n",
    "    bucket = s3.Bucket('classgptbucket')\n",
    "    \n",
    "    if folder_exists_bucket(bucket,folder_name):\n",
    "        for key in bucket.objects.filter(Prefix=f\"{folder_name}/\"):\n",
    "            key.delete()\n",
    "remove_folder(\"test\")\n",
    "list_folders()"
   ]
  },
  {
   "cell_type": "code",
   "execution_count": 33,
   "id": "8f46f473",
   "metadata": {},
   "outputs": [],
   "source": [
    "# create a dataclass titled s3 that implements the methods above\n",
    "\n",
    "class S3:\n",
    "    def __init__(self, bucket_name):\n",
    "        self.bucket_name = bucket_name\n",
    "        self.s3 = boto3.resource(\"s3\")\n",
    "        self.bucket = self.s3.Bucket(bucket_name)\n",
    "\n",
    "    def list_folders(self):\n",
    "        folders = set()\n",
    "        for obj in self.bucket.objects.filter():\n",
    "            folders.add(obj.key.split(\"/\")[0])\n",
    "\n",
    "        return folders\n",
    "\n",
    "    def list_files(self):\n",
    "        classes = defaultdict(list)\n",
    "\n",
    "        # loop through only the parent directory\n",
    "        for obj in self.bucket.objects.filter():\n",
    "            cname, fname = obj.key.split(\"/\")\n",
    "            if not fname.endswith(\".json\"):\n",
    "                classes[cname].append(fname)\n",
    "\n",
    "        return classes\n",
    "\n",
    "    def folder_exists(self, folder_name):\n",
    "        for _ in self.bucket.objects.filter(Prefix=f\"{folder_name}/\"):\n",
    "            return True\n",
    "        return False\n",
    "\n",
    "    def file_exists(self, folder_name, file_name):\n",
    "        try:\n",
    "            self.s3.Object(self.bucket_name, f\"{folder_name}/{file_name}\").load()\n",
    "            return True\n",
    "        except botocore.exceptions.ClientError as e:\n",
    "            if e.response['Error']['Code'] == \"404\":\n",
    "                return False\n",
    "            else:\n",
    "                raise\n",
    "\n",
    "    def create_folder(self, folder_name):\n",
    "        if not self.folder_exists(folder_name):\n",
    "            self.bucket.put_object(Key=f\"{folder_name}/\")\n",
    "\n",
    "    def upload_files(self, file_obj, file_path):\n",
    "        self.bucket.upload_fileobj(file_obj, file_path)\n",
    "\n",
    "    def remove_folder(self, folder_name):\n",
    "        if self.folder_exists(folder_name):\n",
    "            for key in self.bucket.objects.filter(Prefix=f\"{folder_name}/\"):\n",
    "                key.delete()\n",
    "\n",
    "    def remove_file(self, folder_name, file_name):\n",
    "        if self.folder_exists(folder_name):\n",
    "            self.bucket.objects.filter(Prefix=f\"{folder_name}/{file_name}\").delete(\n",
    "                Delete={\"Objects\": [{\"Key\": f\"{folder_name}/{file_name}\"}]}\n",
    "            )"
   ]
  },
  {
   "cell_type": "code",
   "execution_count": null,
   "id": "c75a6b37",
   "metadata": {},
   "outputs": [],
   "source": []
  }
 ],
 "metadata": {
  "kernelspec": {
   "display_name": "Python 3 (ipykernel)",
   "language": "python",
   "name": "python3"
  },
  "language_info": {
   "codemirror_mode": {
    "name": "ipython",
    "version": 3
   },
   "file_extension": ".py",
   "mimetype": "text/x-python",
   "name": "python",
   "nbconvert_exporter": "python",
   "pygments_lexer": "ipython3",
   "version": "3.9.13"
  }
 },
 "nbformat": 4,
 "nbformat_minor": 5
}
